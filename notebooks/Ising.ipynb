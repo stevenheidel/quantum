{
 "metadata": {
  "name": ""
 },
 "nbformat": 3,
 "nbformat_minor": 0,
 "worksheets": [
  {
   "cells": [
    {
     "cell_type": "code",
     "collapsed": false,
     "input": [
      "from qutip import *\n",
      "from scipy import *"
     ],
     "language": "python",
     "metadata": {},
     "outputs": [],
     "prompt_number": 2
    },
    {
     "cell_type": "code",
     "collapsed": false,
     "input": [
      "def adiabatic_qc(h_b, h_p, taumax):\n",
      "    # Get the number of qubits\n",
      "    assert len(h_b.dims[0]) == len(h_b.dims[1]) == len(h_p.dims[0]) == len(h_p.dims[1])\n",
      "    n = len(h_b.dims[0])\n",
      "    \n",
      "    # Increase taumax to make the sweep more adiabatic\n",
      "    assert taumax > 0\n",
      "    taulist = linspace(0, taumax, 100)\n",
      "    \n",
      "    # The time dependent function\n",
      "    h_t = [[h_b, lambda t, t_max : (t_max-t)/t_max],\n",
      "            [h_p, lambda t, t_max : t/t_max]]\n",
      "    \n",
      "    # Return a tensor\n",
      "    psi0 = tensor([basis(2,0) for _ in range(n)])\n",
      "\n",
      "    evals_mat = zeros((len(taulist), 2**n))\n",
      "    idx = [0]\n",
      "    min_gap = [+inf]\n",
      "    \n",
      "    def process_rho(tau, psi):\n",
      "        H = qobj_list_evaluate(h_t, tau, taumax)\n",
      "        evals, ekets = H.eigenstates()\n",
      "        \n",
      "        evals_mat[idx[0],:] = real(evals)\n",
      "        \n",
      "        idx[0] += 1\n",
      "        min_gap[0] = min(min_gap[0], evals[1]-evals[0])\n",
      "    \n",
      "    mesolve(h_t, psi0, taulist, [], process_rho, taumax)\n",
      "        \n",
      "    plot(evals_mat)\n",
      "    \n",
      "    return min_gap[0]"
     ],
     "language": "python",
     "metadata": {},
     "outputs": [],
     "prompt_number": 3
    },
    {
     "cell_type": "code",
     "collapsed": false,
     "input": [
      "def base(dims):\n",
      "    si = qeye(2)\n",
      "    sx = sigmax()\n",
      "    sx_list = []\n",
      "    \n",
      "    for n in range(dims):\n",
      "        op_list = []\n",
      "        for m in range(dims):\n",
      "            op_list.append(si)\n",
      "    \n",
      "        op_list[n] = sx\n",
      "        sx_list.append(tensor(op_list))\n",
      "    \n",
      "    h_b = 0\n",
      "    for n in range(dims):\n",
      "        h_b += 0.5 * (1 - sx_list[n])\n",
      "    \n",
      "    return h_b"
     ],
     "language": "python",
     "metadata": {},
     "outputs": [],
     "prompt_number": 4
    },
    {
     "cell_type": "code",
     "collapsed": false,
     "input": [
      "J = numpy.zeros(9).reshape((3, 3))\n",
      "h = numpy.zeros(3)\n",
      "\n",
      "J[0][1] = -1\n",
      "J[0][2] = -1\n",
      "\n",
      "h[0] = 1\n",
      "\n",
      "offset = 1\n",
      "\n",
      "i = qeye(2)\n",
      "z = 0.5 * (1 - sigmaz())\n",
      "\n",
      "h_ising = J[0][1] * tensor(z,z,i) + J[0][2] * tensor(z,i,z) + J[1][2] * tensor(i,z,z) + \\\n",
      "          h[0] * tensor(z,i,i) + h[1] * tensor(i,z,i) + h[2] * tensor(i,i,z) + offset\n",
      "\n",
      "h_b = base(3)\n",
      "\n",
      "J"
     ],
     "language": "python",
     "metadata": {},
     "outputs": [
      {
       "metadata": {},
       "output_type": "pyout",
       "prompt_number": 5,
       "text": [
        "array([[ 0., -1., -1.],\n",
        "       [ 0.,  0.,  0.],\n",
        "       [ 0.,  0.,  0.]])"
       ]
      }
     ],
     "prompt_number": 5
    },
    {
     "cell_type": "code",
     "collapsed": false,
     "input": [
      "adiabatic_qc(h_b, h_ising, 5.0)"
     ],
     "language": "python",
     "metadata": {},
     "outputs": [
      {
       "metadata": {},
       "output_type": "pyout",
       "prompt_number": 33,
       "text": [
        "0.40620721514564606"
       ]
      },
      {
       "metadata": {},
       "output_type": "display_data",
       "png": "[encoded data removed]",
       "text": [
        "<matplotlib.figure.Figure at 0x39a4c10>"
       ]
      }
     ],
     "prompt_number": 33
    },
    {
     "cell_type": "code",
     "collapsed": false,
     "input": [],
     "language": "python",
     "metadata": {},
     "outputs": []
    }
   ],
   "metadata": {}
  }
 ]
}