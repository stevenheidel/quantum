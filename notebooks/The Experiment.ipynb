{
 "metadata": {
  "name": ""
 },
 "nbformat": 3,
 "nbformat_minor": 0,
 "worksheets": [
  {
   "cells": [
    {
     "cell_type": "code",
     "collapsed": false,
     "input": [
      "from qutip import *\n",
      "from scipy import *"
     ],
     "language": "python",
     "metadata": {},
     "outputs": [],
     "prompt_number": 1
    },
    {
     "cell_type": "code",
     "collapsed": false,
     "input": [
      "from random import randrange"
     ],
     "language": "python",
     "metadata": {},
     "outputs": [],
     "prompt_number": 29
    },
    {
     "cell_type": "code",
     "collapsed": false,
     "input": [
      "def adiabatic_qc(h_b, h_p, taumax):\n",
      "    # Get the number of qubits\n",
      "    assert len(h_b.dims[0]) == len(h_b.dims[1]) == len(h_p.dims[0]) == len(h_p.dims[1])\n",
      "    n = len(h_b.dims[0])\n",
      "    \n",
      "    # Increase taumax to make the sweep more adiabatic\n",
      "    assert taumax > 0\n",
      "    taulist = linspace(0, taumax, 100)\n",
      "    \n",
      "    # The time dependent function\n",
      "    h_t = [[h_b, lambda t, t_max : (t_max-t)/t_max],\n",
      "            [h_p, lambda t, t_max : t/t_max]]\n",
      "    \n",
      "    # Return a tensor\n",
      "    psi0 = tensor([basis(2,0) for _ in range(n)])\n",
      "\n",
      "    evals_mat = zeros((len(taulist), 2**n))\n",
      "    idx = [0]\n",
      "    min_gap = [+inf]\n",
      "    \n",
      "    def process_rho(tau, psi):\n",
      "        H = qobj_list_evaluate(h_t, tau, taumax)\n",
      "        evals, ekets = H.eigenstates()\n",
      "        \n",
      "        evals_mat[idx[0],:] = real(evals)\n",
      "        \n",
      "        idx[0] += 1\n",
      "        min_gap[0] = min(min_gap[0], evals[1]-evals[0])\n",
      "    \n",
      "    mesolve(h_t, psi0, taulist, [], process_rho, taumax)\n",
      "        \n",
      "    plot(evals_mat)\n",
      "    \n",
      "    return min_gap[0]"
     ],
     "language": "python",
     "metadata": {},
     "outputs": [],
     "prompt_number": 52
    },
    {
     "cell_type": "code",
     "collapsed": false,
     "input": [
      "def calculate_min_gap(h_b, h_p):\n",
      "    # Get the number of qubits\n",
      "    assert len(h_b.dims[0]) == len(h_b.dims[1]) == len(h_p.dims[0]) == len(h_p.dims[1])\n",
      "    n = len(h_b.dims[0])\n",
      "    \n",
      "    # Increase taumax to make the sweep more adiabatic\n",
      "    taumax = 5.0\n",
      "    taulist = linspace(0, taumax, 100)\n",
      "    \n",
      "    # The time dependent function\n",
      "    h_t = [[h_b, lambda t, t_max : (t_max-t)/t_max],\n",
      "            [h_p, lambda t, t_max : t/t_max]]\n",
      "    psi0 = tensor([basis(2,0) for _ in range(n)])\n",
      "    \n",
      "    min_gap = [+inf]\n",
      "    def process_rho(tau, psi):\n",
      "        H = qobj_list_evaluate(h_t, tau, taumax)\n",
      "        evals, ekets = H.eigenstates(eigvals=2)\n",
      "                \n",
      "        min_gap[0] = min(min_gap[0], evals[1]-evals[0])\n",
      "    \n",
      "    mesolve(h_t, psi0, taulist, [], process_rho, taumax)\n",
      "            \n",
      "    return min_gap[0]"
     ],
     "language": "python",
     "metadata": {},
     "outputs": [],
     "prompt_number": 74
    },
    {
     "cell_type": "code",
     "collapsed": false,
     "input": [
      "def base(dims):\n",
      "    si = qeye(2)\n",
      "    sx = sigmax()\n",
      "    sx_list = []\n",
      "    \n",
      "    for n in range(dims):\n",
      "        op_list = []\n",
      "        for m in range(dims):\n",
      "            op_list.append(si)\n",
      "    \n",
      "        op_list[n] = sx\n",
      "        sx_list.append(tensor(op_list))\n",
      "    \n",
      "    h_b = 0\n",
      "    for n in range(dims):\n",
      "        h_b += 0.5 * (1 - sx_list[n])\n",
      "    \n",
      "    return h_b"
     ],
     "language": "python",
     "metadata": {},
     "outputs": [],
     "prompt_number": 3
    },
    {
     "cell_type": "code",
     "collapsed": false,
     "input": [
      "def convert_ising(J, h):\n",
      "    assert(len(J) == len(h))\n",
      "    \n",
      "    n = len(J)\n",
      "    \n",
      "    si = qeye(2)\n",
      "    sz = sigmaz()\n",
      "    \n",
      "    h_ising = 0\n",
      "    \n",
      "    # Convert the J matrix\n",
      "    for i in range(0, n-1):\n",
      "        for j in range(i+1, n):\n",
      "            op_list = []\n",
      "            \n",
      "            for _ in range(n):\n",
      "                op_list.append(si)\n",
      "            \n",
      "            op_list[i] = 0.5 * (1 - sz)\n",
      "            op_list[j] = 0.5 * (1 - sz)\n",
      "            \n",
      "            h_ising += J[i][j] * tensor(op_list)\n",
      "    \n",
      "    # Convert the h matrix\n",
      "    for i in range(0, n):\n",
      "        op_list = []\n",
      "            \n",
      "        for _ in range(n):\n",
      "            op_list.append(si)\n",
      "        \n",
      "        op_list[i] = 0.5 * (1 - sz)\n",
      "        \n",
      "        h_ising += h[i] * tensor(op_list)\n",
      "    \n",
      "    # Scale so that zero is minimum\n",
      "    h_ising = h_ising - h_ising.diag().min()\n",
      "    \n",
      "    return h_ising"
     ],
     "language": "python",
     "metadata": {},
     "outputs": [],
     "prompt_number": 16
    },
    {
     "cell_type": "code",
     "collapsed": false,
     "input": [
      "def random_sim(n):\n",
      "    J = numpy.zeros(n*n).reshape((n, n))\n",
      "    h = numpy.zeros(n)\n",
      "    \n",
      "    for i in range(0, n-1):\n",
      "        for j in range(i+1, n):\n",
      "            J[i][j] = randrange(-100, n2+1)\n",
      "    \n",
      "    for i in range(0, n):\n",
      "        h[i] = randrange(-n2, n2+1)\n",
      "    \n",
      "    print J, h\n",
      "    \n",
      "    return calculate_min_gap(base(n), convert_ising(J, h))"
     ],
     "language": "python",
     "metadata": {},
     "outputs": [],
     "prompt_number": 45
    },
    {
     "cell_type": "code",
     "collapsed": false,
     "input": [
      "random_sim(5)"
     ],
     "language": "python",
     "metadata": {},
     "outputs": [
      {
       "output_type": "stream",
       "stream": "stdout",
       "text": [
        "[[  0.  17.  16. -22.  22.]\n",
        " [  0.   0. -10.  21. -13.]\n",
        " [  0.   0.   0. -15.  12.]\n",
        " [  0.   0.   0.   0. -12.]\n",
        " [  0.   0.   0.   0.   0.]] [ 19.  23. -25. -24.  -4.]\n"
       ]
      },
      {
       "metadata": {},
       "output_type": "pyout",
       "prompt_number": 83,
       "text": [
        "0.90571625048236526"
       ]
      }
     ],
     "prompt_number": 83
    },
    {
     "cell_type": "code",
     "collapsed": false,
     "input": [],
     "language": "python",
     "metadata": {},
     "outputs": []
    }
   ],
   "metadata": {}
  }
 ]
}