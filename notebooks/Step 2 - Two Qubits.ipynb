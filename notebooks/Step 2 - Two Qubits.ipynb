{
 "metadata": {
  "name": ""
 },
 "nbformat": 3,
 "nbformat_minor": 0,
 "worksheets": [
  {
   "cells": [
    {
     "cell_type": "markdown",
     "metadata": {},
     "source": [
      "# Two Qubit Example\n",
      "\n",
      "Again, start off by importing the required libraries."
     ]
    },
    {
     "cell_type": "code",
     "collapsed": false,
     "input": [
      "from qutip import *\n",
      "from scipy import *"
     ],
     "language": "python",
     "metadata": {},
     "outputs": [],
     "prompt_number": 2
    },
    {
     "cell_type": "markdown",
     "metadata": {},
     "source": [
      "From the one qubit example, I've converted the adiabatic evolution to a function that takes as paramters the base Hamiltonian and the problem Hamiltonian. This will make it easier to use later."
     ]
    },
    {
     "cell_type": "code",
     "collapsed": false,
     "input": [
      "def adiabatic_qc(h_b, h_p, taumax):\n",
      "    # Get the number of qubits\n",
      "    assert len(h_b.dims[0]) == len(h_b.dims[1]) == len(h_p.dims[0]) == len(h_p.dims[1])\n",
      "    n = len(h_b.dims[0])\n",
      "    \n",
      "    # Increase taumax to make the sweep more adiabatic\n",
      "    assert taumax > 0\n",
      "    taulist = linspace(0, taumax, 100)\n",
      "    \n",
      "    # The time dependent function\n",
      "    h_t = [[h_b, lambda t, t_max : (t_max-t)/t_max],\n",
      "            [h_p, lambda t, t_max : t/t_max]]\n",
      "    \n",
      "    # Return a tensor\n",
      "    psi0 = tensor([basis(2,0) for _ in range(n)])\n",
      "\n",
      "    evals_mat = zeros((len(taulist), 2**n))\n",
      "    idx = [0]\n",
      "    def process_rho(tau, psi):\n",
      "        H = qobj_list_evaluate(h_t, tau, taumax)\n",
      "        evals, ekets = H.eigenstates()\n",
      "        \n",
      "        evals_mat[idx[0],:] = real(evals)\n",
      "        \n",
      "        idx[0] += 1\n",
      "    \n",
      "    mesolve(h_t, psi0, taulist, [], process_rho, taumax)\n",
      "        \n",
      "    plot(evals_mat)"
     ],
     "language": "python",
     "metadata": {},
     "outputs": [],
     "prompt_number": 7
    },
    {
     "cell_type": "markdown",
     "metadata": {},
     "source": [
      "Here I have also created a general function for the base Hamiltonian. Simply pass in the number of qubits to use. This is modelled after the formula in Farhi et al. for finding general base Hamiltonians."
     ]
    },
    {
     "cell_type": "code",
     "collapsed": false,
     "input": [
      "def base(dims):\n",
      "    si = qeye(2)\n",
      "    sx = sigmax()\n",
      "    sx_list = []\n",
      "    \n",
      "    for n in range(dims):\n",
      "        op_list = []\n",
      "        for m in range(dims):\n",
      "            op_list.append(si)\n",
      "    \n",
      "        op_list[n] = sx\n",
      "        sx_list.append(tensor(op_list))\n",
      "    \n",
      "    h_b = 0\n",
      "    for n in range(dims):\n",
      "        h_b += 0.5 * (1 - sx_list[n])\n",
      "    \n",
      "    return h_b"
     ],
     "language": "python",
     "metadata": {},
     "outputs": [],
     "prompt_number": 8
    },
    {
     "cell_type": "markdown",
     "metadata": {},
     "source": [
      "Let's see what that looks like for a 2 qubit base."
     ]
    },
    {
     "cell_type": "code",
     "collapsed": false,
     "input": [
      "h_b = base(2)\n",
      "h_b"
     ],
     "language": "python",
     "metadata": {},
     "outputs": [
      {
       "latex": [
        "\\begin{equation}\\text{Quantum object: dims = [[2, 2], [2, 2]], shape = [4, 4], type = oper, isHerm = True}\\\\[1em]\\begin{pmatrix}1.0 & -0.5 & -0.5 & 0.0\\\\-0.5 & 1.0 & 0.0 & -0.5\\\\-0.5 & 0.0 & 1.0 & -0.5\\\\0.0 & -0.5 & -0.5 & 1.0\\\\\\end{pmatrix}\\end{equation}"
       ],
       "metadata": {},
       "output_type": "pyout",
       "prompt_number": 9,
       "text": [
        "Quantum object: dims = [[2, 2], [2, 2]], shape = [4, 4], type = oper, isherm = True\n",
        "Qobj data =\n",
        "[[ 1.  -0.5 -0.5  0. ]\n",
        " [-0.5  1.   0.  -0.5]\n",
        " [-0.5  0.   1.  -0.5]\n",
        " [ 0.  -0.5 -0.5  1. ]]"
       ]
      }
     ],
     "prompt_number": 9
    },
    {
     "cell_type": "markdown",
     "metadata": {},
     "source": [
      "Here we create some useful matrices called \"punish\" and \"reward\". With the \"punish\" matrix, the qubit will be in the ground state when it is 0 (ie. punishing it for being on). With the \"reward\" matrix, the qubit will be in the ground state when it is 1 (ie. rewarding it for being on). These can be combined using tensors to create qubits dependent on one another."
     ]
    },
    {
     "cell_type": "code",
     "collapsed": false,
     "input": [
      "punish = 1 - 0.5 * (1 - sigmaz())\n",
      "reward = 0.5 * (1 - sigmaz())"
     ],
     "language": "python",
     "metadata": {},
     "outputs": [],
     "prompt_number": 20
    },
    {
     "cell_type": "markdown",
     "metadata": {},
     "source": [
      "Let's create a problem Hamiltonian for a XOR gate. Start with 1, the identity matrix, to say that every case except the ones we specify should not be the ground state. Next, subtract off the state \"punish reward\", ie. 01 and vice versa for 10. This leaves two ground states for each of the two possible truth values of the XOR gate."
     ]
    },
    {
     "cell_type": "code",
     "collapsed": false,
     "input": [
      "h_p = 1 - tensor(punish, reward) - tensor(reward, punish)\n",
      "h_p"
     ],
     "language": "python",
     "metadata": {},
     "outputs": [
      {
       "latex": [
        "\\begin{equation}\\text{Quantum object: dims = [[2, 2], [2, 2]], shape = [4, 4], type = oper, isHerm = True}\\\\[1em]\\begin{pmatrix}1.0 & 0.0 & 0.0 & 0.0\\\\0.0 & 0.0 & 0.0 & 0.0\\\\0.0 & 0.0 & 0.0 & 0.0\\\\0.0 & 0.0 & 0.0 & 1.0\\\\\\end{pmatrix}\\end{equation}"
       ],
       "metadata": {},
       "output_type": "pyout",
       "prompt_number": 22,
       "text": [
        "Quantum object: dims = [[2, 2], [2, 2]], shape = [4, 4], type = oper, isherm = True\n",
        "Qobj data =\n",
        "[[ 1.  0.  0.  0.]\n",
        " [ 0.  0.  0.  0.]\n",
        " [ 0.  0.  0.  0.]\n",
        " [ 0.  0.  0.  1.]]"
       ]
      }
     ],
     "prompt_number": 22
    },
    {
     "cell_type": "markdown",
     "metadata": {},
     "source": [
      "Look across the diagonal of the above matrix, it is [1.0, 0.0, 0,0, 1.0]. This corresponds with the four possible qubit configurations, 00, 01, 10, and 11. As you can see, the diagonal value is 0.0 when the XOR gate is true, and 1.0 otherwise.\n",
      "\n",
      "Now when we run our plotting function, this shows the two correct values go to the ground. \n",
      "\n",
      "If done correctly, this graph should match the one in Figure 4 of http://arxiv.org/pdf/quant-ph/0001106v1.pdf"
     ]
    },
    {
     "cell_type": "code",
     "collapsed": false,
     "input": [
      "adiabatic_qc(h_b, h_p, 5.0)"
     ],
     "language": "python",
     "metadata": {},
     "outputs": [
      {
       "metadata": {},
       "output_type": "display_data",
       "png": "[encoded data removed]",
       "text": [
        "<matplotlib.figure.Figure at 0x43e94d0>"
       ]
      }
     ],
     "prompt_number": 23
    }
   ],
   "metadata": {}
  }
 ]
}