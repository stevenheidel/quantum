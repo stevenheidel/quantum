{
 "metadata": {
  "name": ""
 },
 "nbformat": 3,
 "nbformat_minor": 0,
 "worksheets": [
  {
   "cells": [
    {
     "cell_type": "markdown",
     "metadata": {},
     "source": [
      "# One Qubit Example\n",
      "\n",
      "Start off by importing the required libraries. Installing QuTIP on Ubuntu is as simple as running the commands:\n",
      "\n",
      "    sudo add-apt-repository ppa:jrjohansson/qutip-releases\n",
      "    sudo apt-get update\n",
      "    sudo apt-get install python-qutip\n",
      "\n",
      "Instructions for installing on other platforms can be found at http://qutip.org."
     ]
    },
    {
     "cell_type": "code",
     "collapsed": false,
     "input": [
      "from qutip import *\n",
      "from scipy import *"
     ],
     "language": "python",
     "metadata": {},
     "outputs": [],
     "prompt_number": 2
    },
    {
     "cell_type": "markdown",
     "metadata": {},
     "source": [
      "Next let's create the problem Hamiltonian. In this case, with just 1 qubit the ground state will be when the qubit is true. To change the ground state to be when the qubit is false, simply flip the sign from a + to a -."
     ]
    },
    {
     "cell_type": "code",
     "collapsed": false,
     "input": [
      "h_p = (1./2.) + (1./2.) * sigmaz()\n",
      "h_p"
     ],
     "language": "python",
     "metadata": {},
     "outputs": [
      {
       "latex": [
        "\\begin{equation}\\text{Quantum object: dims = [[2], [2]], shape = [2, 2], type = oper, isHerm = True}\\\\[1em]\\begin{pmatrix}1.0 & 0.0\\\\0.0 & 0.0\\\\\\end{pmatrix}\\end{equation}"
       ],
       "metadata": {},
       "output_type": "pyout",
       "prompt_number": 10,
       "text": [
        "Quantum object: dims = [[2], [2]], shape = [2, 2], type = oper, isherm = True\n",
        "Qobj data =\n",
        "[[ 1.  0.]\n",
        " [ 0.  0.]]"
       ]
      }
     ],
     "prompt_number": 10
    },
    {
     "cell_type": "markdown",
     "metadata": {},
     "source": [
      "Next create the base Hamiltonian. It's ground state should be a superposition of all possible states. In can be created using the formula found in Farhi et al. Note that the Pauli X matrix is used instead of the Z one because the base Hamiltonian must be in a different basis or else level crossings will occur."
     ]
    },
    {
     "cell_type": "code",
     "collapsed": false,
     "input": [
      "h_b = (1./2.) - (1./2.) * sigmax()\n",
      "h_b"
     ],
     "language": "python",
     "metadata": {},
     "outputs": [
      {
       "latex": [
        "\\begin{equation}\\text{Quantum object: dims = [[2], [2]], shape = [2, 2], type = oper, isHerm = True}\\\\[1em]\\begin{pmatrix}0.5 & -0.5\\\\-0.5 & 0.5\\\\\\end{pmatrix}\\end{equation}"
       ],
       "metadata": {},
       "output_type": "pyout",
       "prompt_number": 4,
       "text": [
        "Quantum object: dims = [[2], [2]], shape = [2, 2], type = oper, isherm = True\n",
        "Qobj data =\n",
        "[[ 0.5 -0.5]\n",
        " [-0.5  0.5]]"
       ]
      }
     ],
     "prompt_number": 4
    },
    {
     "cell_type": "markdown",
     "metadata": {},
     "source": [
      "Now we create the time dependent function. For QuTIP, this is just an array of the Hamiltonians and a function that defines to what degree they are added to the time dependent Hamiltonian."
     ]
    },
    {
     "cell_type": "code",
     "collapsed": false,
     "input": [
      "h_t = [[h_b, lambda t, t_max : (t_max-t)/t_max],\n",
      "       [h_p, lambda t, t_max : t/t_max]]"
     ],
     "language": "python",
     "metadata": {},
     "outputs": [],
     "prompt_number": 7
    },
    {
     "cell_type": "markdown",
     "metadata": {},
     "source": [
      "Now we need a list of values over which to calculate the time-dependent Hamiltonian. Here we go with 100 values from 0 to 5."
     ]
    },
    {
     "cell_type": "code",
     "collapsed": false,
     "input": [
      "taumax = 5.0\n",
      "taulist = linspace(0, taumax, 100)\n",
      "taulist"
     ],
     "language": "python",
     "metadata": {},
     "outputs": [
      {
       "metadata": {},
       "output_type": "pyout",
       "prompt_number": 6,
       "text": [
        "array([ 0.        ,  0.05050505,  0.1010101 ,  0.15151515,  0.2020202 ,\n",
        "        0.25252525,  0.3030303 ,  0.35353535,  0.4040404 ,  0.45454545,\n",
        "        0.50505051,  0.55555556,  0.60606061,  0.65656566,  0.70707071,\n",
        "        0.75757576,  0.80808081,  0.85858586,  0.90909091,  0.95959596,\n",
        "        1.01010101,  1.06060606,  1.11111111,  1.16161616,  1.21212121,\n",
        "        1.26262626,  1.31313131,  1.36363636,  1.41414141,  1.46464646,\n",
        "        1.51515152,  1.56565657,  1.61616162,  1.66666667,  1.71717172,\n",
        "        1.76767677,  1.81818182,  1.86868687,  1.91919192,  1.96969697,\n",
        "        2.02020202,  2.07070707,  2.12121212,  2.17171717,  2.22222222,\n",
        "        2.27272727,  2.32323232,  2.37373737,  2.42424242,  2.47474747,\n",
        "        2.52525253,  2.57575758,  2.62626263,  2.67676768,  2.72727273,\n",
        "        2.77777778,  2.82828283,  2.87878788,  2.92929293,  2.97979798,\n",
        "        3.03030303,  3.08080808,  3.13131313,  3.18181818,  3.23232323,\n",
        "        3.28282828,  3.33333333,  3.38383838,  3.43434343,  3.48484848,\n",
        "        3.53535354,  3.58585859,  3.63636364,  3.68686869,  3.73737374,\n",
        "        3.78787879,  3.83838384,  3.88888889,  3.93939394,  3.98989899,\n",
        "        4.04040404,  4.09090909,  4.14141414,  4.19191919,  4.24242424,\n",
        "        4.29292929,  4.34343434,  4.39393939,  4.44444444,  4.49494949,\n",
        "        4.54545455,  4.5959596 ,  4.64646465,  4.6969697 ,  4.74747475,\n",
        "        4.7979798 ,  4.84848485,  4.8989899 ,  4.94949495,  5.        ])"
       ]
      }
     ],
     "prompt_number": 6
    },
    {
     "cell_type": "markdown",
     "metadata": {},
     "source": [
      "This is simply the ground state which is known and easy to calculate from the base Hamiltonian."
     ]
    },
    {
     "cell_type": "code",
     "collapsed": false,
     "input": [
      "psi0 = basis(2,0)\n",
      "psi0"
     ],
     "language": "python",
     "metadata": {},
     "outputs": [
      {
       "latex": [
        "\\begin{equation}\\text{Quantum object: dims = [[2], [1]], shape = [2, 1], type = ket}\\\\[1em]\\begin{pmatrix}1.0\\\\0.0\\\\\\end{pmatrix}\\end{equation}"
       ],
       "metadata": {},
       "output_type": "pyout",
       "prompt_number": 8,
       "text": [
        "Quantum object: dims = [[2], [1]], shape = [2, 1], type = ket\n",
        "Qobj data =\n",
        "[[ 1.]\n",
        " [ 0.]]"
       ]
      }
     ],
     "prompt_number": 8
    },
    {
     "cell_type": "markdown",
     "metadata": {},
     "source": [
      "Now let's create an array to store all the eigenvalues. It should be a 100x2 array, because there 100 time steps and 2 eigenstates for a 1 qubit system. We also keep track of the current index, it has to be a one-element array so it is passed-by-reference and not by value."
     ]
    },
    {
     "cell_type": "code",
     "collapsed": false,
     "input": [
      "evals_mat = zeros((len(taulist), 2))\n",
      "idx = [0]"
     ],
     "language": "python",
     "metadata": {},
     "outputs": [],
     "prompt_number": 11
    },
    {
     "cell_type": "markdown",
     "metadata": {},
     "source": [
      "Now we need a callback function that will be triggered by the solver after each step in the calculation. It evaluates \"H\", the Hamiltonian at that particular point. Then it calculates all the eigenvalues of that Hamiltonian and keeps track of them in the array we created in the previous step."
     ]
    },
    {
     "cell_type": "code",
     "collapsed": false,
     "input": [
      "def process_rho(tau, psi):\n",
      "    H = qobj_list_evaluate(h_t, tau, taumax)\n",
      "    evals, _ = H.eigenstates()\n",
      "    \n",
      "    evals_mat[idx[0],:] = real(evals)\n",
      "        \n",
      "    idx[0] += 1"
     ],
     "language": "python",
     "metadata": {},
     "outputs": [],
     "prompt_number": 12
    },
    {
     "cell_type": "markdown",
     "metadata": {},
     "source": [
      "Finally, we're ready to actually run the solver. The mesolve function is documented on the QuTIP website."
     ]
    },
    {
     "cell_type": "code",
     "collapsed": false,
     "input": [
      "mesolve(h_t, psi0, taulist, [], process_rho, taumax)"
     ],
     "language": "python",
     "metadata": {},
     "outputs": [
      {
       "metadata": {},
       "output_type": "pyout",
       "prompt_number": 13,
       "text": [
        "Odedata object with mesolve data.\n",
        "---------------------------------\n",
        "states = True, expect = True\n",
        "num_expect = 0, num_collapse = 0"
       ]
      }
     ],
     "prompt_number": 13
    },
    {
     "cell_type": "markdown",
     "metadata": {},
     "source": [
      "Now in our evals_mat we have all the eigenvalues for all the time steps. Now it's just a matter of plotting and visualizing the results. \n",
      "\n",
      "If done correctly, this graph should match the one in Figure 1 of http://arxiv.org/pdf/quant-ph/0001106v1.pdf"
     ]
    },
    {
     "cell_type": "code",
     "collapsed": false,
     "input": [
      "plot(evals_mat)"
     ],
     "language": "python",
     "metadata": {},
     "outputs": [
      {
       "metadata": {},
       "output_type": "pyout",
       "prompt_number": 14,
       "text": [
        "[<matplotlib.lines.Line2D at 0x4a82290>,\n",
        " <matplotlib.lines.Line2D at 0x4a82510>]"
       ]
      },
      {
       "metadata": {},
       "output_type": "display_data",
       "png": "[encoded data removed]",
       "text": [
        "<matplotlib.figure.Figure at 0x49c9d10>"
       ]
      }
     ],
     "prompt_number": 14
    }
   ],
   "metadata": {}
  }
 ]
}