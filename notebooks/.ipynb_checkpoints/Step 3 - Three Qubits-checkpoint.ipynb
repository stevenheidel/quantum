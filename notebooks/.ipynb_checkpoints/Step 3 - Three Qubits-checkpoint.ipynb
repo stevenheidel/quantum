{
 "metadata": {
  "name": ""
 },
 "nbformat": 3,
 "nbformat_minor": 0,
 "worksheets": [
  {
   "cells": [
    {
     "cell_type": "markdown",
     "metadata": {},
     "source": [
      "# Three Qubit Example\n",
      "\n",
      "Again, start off by importing the required libraries."
     ]
    },
    {
     "cell_type": "code",
     "collapsed": false,
     "input": [
      "from qutip import *\n",
      "from scipy import *"
     ],
     "language": "python",
     "metadata": {},
     "outputs": [],
     "prompt_number": 1
    },
    {
     "cell_type": "markdown",
     "metadata": {},
     "source": [
      "Common functions are the same as before."
     ]
    },
    {
     "cell_type": "code",
     "collapsed": false,
     "input": [
      "def adiabatic_qc(h_b, h_p, taumax):\n",
      "    # Get the number of qubits\n",
      "    assert len(h_b.dims[0]) == len(h_b.dims[1]) == len(h_p.dims[0]) == len(h_p.dims[1])\n",
      "    n = len(h_b.dims[0])\n",
      "    \n",
      "    # Increase taumax to make the sweep more adiabatic\n",
      "    assert taumax > 0\n",
      "    taulist = linspace(0, taumax, 100)\n",
      "    \n",
      "    # The time dependent function\n",
      "    h_t = [[h_b, lambda t, t_max : (t_max-t)/t_max],\n",
      "            [h_p, lambda t, t_max : t/t_max]]\n",
      "    \n",
      "    # Return a tensor\n",
      "    psi0 = tensor([basis(2,0) for _ in range(n)])\n",
      "\n",
      "    evals_mat = zeros((len(taulist), 2**n))\n",
      "    idx = [0]\n",
      "    def process_rho(tau, psi):\n",
      "        H = qobj_list_evaluate(h_t, tau, taumax)\n",
      "        evals, ekets = H.eigenstates()\n",
      "        \n",
      "        evals_mat[idx[0],:] = real(evals)\n",
      "        \n",
      "        idx[0] += 1\n",
      "    \n",
      "    mesolve(h_t, psi0, taulist, [], process_rho, taumax)\n",
      "        \n",
      "    plot(evals_mat)\n",
      "    \n",
      "def base(dims):\n",
      "    si = qeye(2)\n",
      "    sx = sigmax()\n",
      "    sx_list = []\n",
      "    \n",
      "    for n in range(dims):\n",
      "        op_list = []\n",
      "        for m in range(dims):\n",
      "            op_list.append(si)\n",
      "    \n",
      "        op_list[n] = sx\n",
      "        sx_list.append(tensor(op_list))\n",
      "    \n",
      "    h_b = 0\n",
      "    for n in range(dims):\n",
      "        h_b += 0.5 * (1 - sx_list[n])\n",
      "    \n",
      "    return h_b"
     ],
     "language": "python",
     "metadata": {},
     "outputs": [],
     "prompt_number": 12
    },
    {
     "cell_type": "markdown",
     "metadata": {},
     "source": [
      "Our base Hamiltonian is much bigger this time. I multiplied it by 2 to get the same scaling as the figure in the paper."
     ]
    },
    {
     "cell_type": "code",
     "collapsed": false,
     "input": [
      "h_b = 2 * base(3)\n",
      "h_b"
     ],
     "language": "python",
     "metadata": {},
     "outputs": [
      {
       "latex": [
        "\\begin{equation}\\text{Quantum object: dims = [[2, 2, 2], [2, 2, 2]], shape = [8, 8], type = oper, isHerm = True}\\\\[1em]\\begin{pmatrix}3.0 & -1.0 & -1.0 & 0.0 & -1.0 & 0.0 & 0.0 & 0.0\\\\-1.0 & 3.0 & 0.0 & -1.0 & 0.0 & -1.0 & 0.0 & 0.0\\\\-1.0 & 0.0 & 3.0 & -1.0 & 0.0 & 0.0 & -1.0 & 0.0\\\\0.0 & -1.0 & -1.0 & 3.0 & 0.0 & 0.0 & 0.0 & -1.0\\\\-1.0 & 0.0 & 0.0 & 0.0 & 3.0 & -1.0 & -1.0 & 0.0\\\\0.0 & -1.0 & 0.0 & 0.0 & -1.0 & 3.0 & 0.0 & -1.0\\\\0.0 & 0.0 & -1.0 & 0.0 & -1.0 & 0.0 & 3.0 & -1.0\\\\0.0 & 0.0 & 0.0 & -1.0 & 0.0 & -1.0 & -1.0 & 3.0\\\\\\end{pmatrix}\\end{equation}"
       ],
       "metadata": {},
       "output_type": "pyout",
       "prompt_number": 14,
       "text": [
        "Quantum object: dims = [[2, 2, 2], [2, 2, 2]], shape = [8, 8], type = oper, isherm = True\n",
        "Qobj data =\n",
        "[[ 3. -1. -1.  0. -1.  0.  0.  0.]\n",
        " [-1.  3.  0. -1.  0. -1.  0.  0.]\n",
        " [-1.  0.  3. -1.  0.  0. -1.  0.]\n",
        " [ 0. -1. -1.  3.  0.  0.  0. -1.]\n",
        " [-1.  0.  0.  0.  3. -1. -1.  0.]\n",
        " [ 0. -1.  0.  0. -1.  3.  0. -1.]\n",
        " [ 0.  0. -1.  0. -1.  0.  3. -1.]\n",
        " [ 0.  0.  0. -1.  0. -1. -1.  3.]]"
       ]
      }
     ],
     "prompt_number": 14
    },
    {
     "cell_type": "markdown",
     "metadata": {},
     "source": [
      "We do the same thing as before with \"punish\" and \"reward\", this time abbreviated as \"p\" and \"r\". Now though, we also need the identity matrix \"i\". When an operation is applied to two qubits, the result of the 3rd doesn't matter, so we use the identity to indicate that on the 3rd qubit. \n",
      "\n",
      "Here the example problem we are solving contains the following logical statements:\n",
      "\n",
      "- 1 implies 2\n",
      "- 1 disagree 3\n",
      "- 2 agree 3\n",
      "\n",
      "As seen in the matrix, the only valid solution is the one across the diagonal with a 0.0, namely the bit string \"011\"."
     ]
    },
    {
     "cell_type": "code",
     "collapsed": false,
     "input": [
      "i = qeye(2)\n",
      "p = 1 - 0.5 * (1 - sigmaz())\n",
      "r = 0.5 * (1 - sigmaz())\n",
      "\n",
      "h12imply = 1-(tensor(p,p,i)+tensor(p,r,i)+tensor(r,r,i))\n",
      "h13disagree = 1-(tensor(p,i,r)+tensor(r,i,p))\n",
      "h23agree = 1-(tensor(i,p,p)+tensor(i,r,r))\n",
      "\n",
      "h_p = h12imply + h13disagree + h23agree\n",
      "h_p"
     ],
     "language": "python",
     "metadata": {},
     "outputs": [
      {
       "latex": [
        "\\begin{equation}\\text{Quantum object: dims = [[2, 2, 2], [2, 2, 2]], shape = [8, 8], type = oper, isHerm = True}\\\\[1em]\\begin{pmatrix}1.0 & 0.0 & 0.0 & 0.0 & 0.0 & 0.0 & 0.0 & 0.0\\\\0.0 & 1.0 & 0.0 & 0.0 & 0.0 & 0.0 & 0.0 & 0.0\\\\0.0 & 0.0 & 2.0 & 0.0 & 0.0 & 0.0 & 0.0 & 0.0\\\\0.0 & 0.0 & 0.0 & 0.0 & 0.0 & 0.0 & 0.0 & 0.0\\\\0.0 & 0.0 & 0.0 & 0.0 & 1.0 & 0.0 & 0.0 & 0.0\\\\0.0 & 0.0 & 0.0 & 0.0 & 0.0 & 3.0 & 0.0 & 0.0\\\\0.0 & 0.0 & 0.0 & 0.0 & 0.0 & 0.0 & 1.0 & 0.0\\\\0.0 & 0.0 & 0.0 & 0.0 & 0.0 & 0.0 & 0.0 & 1.0\\\\\\end{pmatrix}\\end{equation}"
       ],
       "metadata": {},
       "output_type": "pyout",
       "prompt_number": 10,
       "text": [
        "Quantum object: dims = [[2, 2, 2], [2, 2, 2]], shape = [8, 8], type = oper, isherm = True\n",
        "Qobj data =\n",
        "[[ 1.  0.  0.  0.  0.  0.  0.  0.]\n",
        " [ 0.  1.  0.  0.  0.  0.  0.  0.]\n",
        " [ 0.  0.  2.  0.  0.  0.  0.  0.]\n",
        " [ 0.  0.  0.  0.  0.  0.  0.  0.]\n",
        " [ 0.  0.  0.  0.  1.  0.  0.  0.]\n",
        " [ 0.  0.  0.  0.  0.  3.  0.  0.]\n",
        " [ 0.  0.  0.  0.  0.  0.  1.  0.]\n",
        " [ 0.  0.  0.  0.  0.  0.  0.  1.]]"
       ]
      }
     ],
     "prompt_number": 10
    },
    {
     "cell_type": "markdown",
     "metadata": {},
     "source": [
      "The minimum gap is much smaller now!\n",
      "\n",
      "If done correctly, this graph should match the one in Figure 6 of http://arxiv.org/pdf/quant-ph/0001106v1.pdf"
     ]
    },
    {
     "cell_type": "code",
     "collapsed": false,
     "input": [
      "adiabatic_qc(h_b, h_p, 5.0)"
     ],
     "language": "python",
     "metadata": {},
     "outputs": [
      {
       "metadata": {},
       "output_type": "display_data",
       "png": "[encoded data removed]",
       "text": [
        "<matplotlib.figure.Figure at 0x3340f50>"
       ]
      }
     ],
     "prompt_number": 11
    }
   ],
   "metadata": {}
  }
 ]
}