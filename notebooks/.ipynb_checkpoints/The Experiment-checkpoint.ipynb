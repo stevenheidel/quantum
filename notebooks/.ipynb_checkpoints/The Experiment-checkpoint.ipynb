{
 "metadata": {
  "name": ""
 },
 "nbformat": 3,
 "nbformat_minor": 0,
 "worksheets": [
  {
   "cells": [
    {
     "cell_type": "code",
     "collapsed": false,
     "input": [
      "from qutip import *\n",
      "from scipy import *"
     ],
     "language": "python",
     "metadata": {},
     "outputs": [],
     "prompt_number": 1
    },
    {
     "cell_type": "code",
     "collapsed": false,
     "input": [
      "def adiabatic_qc(h_b, h_p, taumax):\n",
      "    # Get the number of qubits\n",
      "    assert len(h_b.dims[0]) == len(h_b.dims[1]) == len(h_p.dims[0]) == len(h_p.dims[1])\n",
      "    n = len(h_b.dims[0])\n",
      "    \n",
      "    # Increase taumax to make the sweep more adiabatic\n",
      "    assert taumax > 0\n",
      "    taulist = linspace(0, taumax, 100)\n",
      "    \n",
      "    # The time dependent function\n",
      "    h_t = [[h_b, lambda t, t_max : (t_max-t)/t_max],\n",
      "            [h_p, lambda t, t_max : t/t_max]]\n",
      "    \n",
      "    # Return a tensor\n",
      "    psi0 = tensor([basis(2,0) for _ in range(n)])\n",
      "\n",
      "    evals_mat = zeros((len(taulist), 2**n))\n",
      "    idx = [0]\n",
      "    min_gap = [+inf]\n",
      "    \n",
      "    def process_rho(tau, psi):\n",
      "        H = qobj_list_evaluate(h_t, tau, taumax)\n",
      "        evals, ekets = H.eigenstates()\n",
      "        \n",
      "        evals_mat[idx[0],:] = real(evals)\n",
      "        \n",
      "        idx[0] += 1\n",
      "        min_gap[0] = min(min_gap[0], evals[1]-evals[0])\n",
      "    \n",
      "    mesolve(h_t, psi0, taulist, [], process_rho, taumax)\n",
      "        \n",
      "    plot(evals_mat)\n",
      "    \n",
      "    return min_gap[0]"
     ],
     "language": "python",
     "metadata": {},
     "outputs": [],
     "prompt_number": 2
    },
    {
     "cell_type": "code",
     "collapsed": false,
     "input": [
      "def base(dims):\n",
      "    si = qeye(2)\n",
      "    sx = sigmax()\n",
      "    sx_list = []\n",
      "    \n",
      "    for n in range(dims):\n",
      "        op_list = []\n",
      "        for m in range(dims):\n",
      "            op_list.append(si)\n",
      "    \n",
      "        op_list[n] = sx\n",
      "        sx_list.append(tensor(op_list))\n",
      "    \n",
      "    h_b = 0\n",
      "    for n in range(dims):\n",
      "        h_b += 0.5 * (1 - sx_list[n])\n",
      "    \n",
      "    return h_b"
     ],
     "language": "python",
     "metadata": {},
     "outputs": [],
     "prompt_number": 3
    },
    {
     "cell_type": "code",
     "collapsed": false,
     "input": [
      "def convert_ising(J, h):\n",
      "    assert(len(J) == len(h))\n",
      "    \n",
      "    n = len(J)\n",
      "    \n",
      "    si = qeye(2)\n",
      "    sz = sigmaz()\n",
      "    \n",
      "    h_ising = 0\n",
      "    \n",
      "    # Convert the J matrix\n",
      "    for i in range(0, n-1):\n",
      "        for j in range(i+1, n):\n",
      "            op_list = []\n",
      "            \n",
      "            for _ in range(n):\n",
      "                op_list.append(si)\n",
      "            \n",
      "            op_list[i] = 0.5 * (1 - sz)\n",
      "            op_list[j] = 0.5 * (1 - sz)\n",
      "            \n",
      "            h_ising += J[i][j] * tensor(op_list)\n",
      "    \n",
      "    # Convert the h matrix\n",
      "    for i in range(0, n):\n",
      "        op_list = []\n",
      "            \n",
      "        for _ in range(n):\n",
      "            op_list.append(si)\n",
      "        \n",
      "        op_list[i] = 0.5 * (1 - sz)\n",
      "        \n",
      "        h_ising += h[i] * tensor(op_list)\n",
      "    \n",
      "    return h_ising"
     ],
     "language": "python",
     "metadata": {},
     "outputs": [],
     "prompt_number": 10
    },
    {
     "cell_type": "code",
     "collapsed": false,
     "input": [
      "J = numpy.zeros(9).reshape((3, 3))\n",
      "h = numpy.zeros(3)\n",
      "\n",
      "J[0][1] = -1\n",
      "J[0][2] = -1\n",
      "\n",
      "h[0] = 1\n",
      "\n",
      "convert_ising(J, h)"
     ],
     "language": "python",
     "metadata": {},
     "outputs": [
      {
       "latex": [
        "\\begin{equation}\\text{Quantum object: dims = [[2, 2, 2], [2, 2, 2]], shape = [8, 8], type = oper, isHerm = True}\\\\[1em]\\begin{pmatrix}0.0 & 0.0 & 0.0 & 0.0 & 0.0 & 0.0 & 0.0 & 0.0\\\\0.0 & 0.0 & 0.0 & 0.0 & 0.0 & 0.0 & 0.0 & 0.0\\\\0.0 & 0.0 & 0.0 & 0.0 & 0.0 & 0.0 & 0.0 & 0.0\\\\0.0 & 0.0 & 0.0 & 0.0 & 0.0 & 0.0 & 0.0 & 0.0\\\\0.0 & 0.0 & 0.0 & 0.0 & 1.0 & 0.0 & 0.0 & 0.0\\\\0.0 & 0.0 & 0.0 & 0.0 & 0.0 & 0.0 & 0.0 & 0.0\\\\0.0 & 0.0 & 0.0 & 0.0 & 0.0 & 0.0 & 0.0 & 0.0\\\\0.0 & 0.0 & 0.0 & 0.0 & 0.0 & 0.0 & 0.0 & -1.0\\\\\\end{pmatrix}\\end{equation}"
       ],
       "metadata": {},
       "output_type": "pyout",
       "prompt_number": 11,
       "text": [
        "Quantum object: dims = [[2, 2, 2], [2, 2, 2]], shape = [8, 8], type = oper, isherm = True\n",
        "Qobj data =\n",
        "[[ 0.  0.  0.  0.  0.  0.  0.  0.]\n",
        " [ 0.  0.  0.  0.  0.  0.  0.  0.]\n",
        " [ 0.  0.  0.  0.  0.  0.  0.  0.]\n",
        " [ 0.  0.  0.  0.  0.  0.  0.  0.]\n",
        " [ 0.  0.  0.  0.  1.  0.  0.  0.]\n",
        " [ 0.  0.  0.  0.  0.  0.  0.  0.]\n",
        " [ 0.  0.  0.  0.  0.  0.  0.  0.]\n",
        " [ 0.  0.  0.  0.  0.  0.  0. -1.]]"
       ]
      }
     ],
     "prompt_number": 11
    },
    {
     "cell_type": "code",
     "collapsed": false,
     "input": [],
     "language": "python",
     "metadata": {},
     "outputs": []
    }
   ],
   "metadata": {}
  }
 ]
}