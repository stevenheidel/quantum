{
 "metadata": {
  "name": ""
 },
 "nbformat": 3,
 "nbformat_minor": 0,
 "worksheets": [
  {
   "cells": [
    {
     "cell_type": "code",
     "collapsed": false,
     "input": [
      "from qutip import *\n",
      "from scipy import *"
     ],
     "language": "python",
     "metadata": {},
     "outputs": [],
     "prompt_number": 3
    },
    {
     "cell_type": "code",
     "collapsed": false,
     "input": [
      "def adiabatic_qc(h_b, h_p, taumax):\n",
      "    # Get the number of qubits\n",
      "    assert len(h_b.dims[0]) == len(h_b.dims[1]) == len(h_p.dims[0]) == len(h_p.dims[1])\n",
      "    n = len(h_b.dims[0])\n",
      "    \n",
      "    # Increase taumax to make the sweep more adiabatic\n",
      "    assert taumax > 0\n",
      "    taulist = linspace(0, taumax, 100)\n",
      "    \n",
      "    # The time dependent function\n",
      "    h_t = [[h_b, lambda t, t_max : (t_max-t)/t_max],\n",
      "            [h_p, lambda t, t_max : t/t_max]]\n",
      "    \n",
      "    # Return a tensor\n",
      "    psi0 = tensor([basis(2,0) for _ in range(n)])\n",
      "\n",
      "    evals_mat = zeros((len(taulist), n**2))\n",
      "    idx = [0]\n",
      "    def process_rho(tau, psi):\n",
      "        H = qobj_list_evaluate(h_t, tau, taumax)\n",
      "        evals, ekets = H.eigenstates()\n",
      "        \n",
      "        evals_mat[idx[0],:] = real(evals)\n",
      "        \n",
      "        idx[0] += 1\n",
      "    \n",
      "    mesolve(h_t, psi0, taulist, [], process_rho, taumax)\n",
      "        \n",
      "    plot(evals_mat)"
     ],
     "language": "python",
     "metadata": {},
     "outputs": [],
     "prompt_number": 91
    },
    {
     "cell_type": "code",
     "collapsed": false,
     "input": [
      "def base(dims):\n",
      "    si = qeye(2)\n",
      "    sx = sigmax()\n",
      "    sx_list = []\n",
      "    \n",
      "    for n in range(dims):\n",
      "        op_list = []\n",
      "        for m in range(dims):\n",
      "            op_list.append(si)\n",
      "    \n",
      "        op_list[n] = sx\n",
      "        sx_list.append(tensor(op_list))\n",
      "    \n",
      "    h_b = 0\n",
      "    for n in range(dims):\n",
      "        h_b += 0.5 * (1 - sx_list[n])\n",
      "    \n",
      "    return h_b\n",
      "\n",
      "h_b = base(2)\n",
      "h_b"
     ],
     "language": "python",
     "metadata": {},
     "outputs": [
      {
       "latex": [
        "\\begin{equation}\\text{Quantum object: dims = [[2, 2], [2, 2]], shape = [4, 4], type = oper, isHerm = True}\\\\[1em]\\begin{pmatrix}1.0 & -0.5 & -0.5 & 0.0\\\\-0.5 & 1.0 & 0.0 & -0.5\\\\-0.5 & 0.0 & 1.0 & -0.5\\\\0.0 & -0.5 & -0.5 & 1.0\\\\\\end{pmatrix}\\end{equation}"
       ],
       "metadata": {},
       "output_type": "pyout",
       "prompt_number": 126,
       "text": [
        "Quantum object: dims = [[2, 2], [2, 2]], shape = [4, 4], type = oper, isherm = True\n",
        "Qobj data =\n",
        "[[ 1.  -0.5 -0.5  0. ]\n",
        " [-0.5  1.   0.  -0.5]\n",
        " [-0.5  0.   1.  -0.5]\n",
        " [ 0.  -0.5 -0.5  1. ]]"
       ]
      }
     ],
     "prompt_number": 126
    },
    {
     "cell_type": "code",
     "collapsed": false,
     "input": [
      "# pre-allocate operators\n",
      "si = qeye(2)\n",
      "sz = sigmaz()\n",
      "sz_list = []\n",
      "\n",
      "for n in range(2):\n",
      "    op_list = []\n",
      "    for m in range(2):\n",
      "        op_list.append(si)\n",
      "\n",
      "    op_list[n] = sz\n",
      "    sz_list.append(tensor(op_list))\n",
      "\n",
      "punish = 0.5 * (1 - sigmaz())\n",
      "reward = 1 - 0.5 * (1 - sigmaz())\n",
      "\n",
      "h_p = 1 - tensor(punish, reward) - tensor(punish, punish) - tensor(reward, reward)\n",
      "h_p"
     ],
     "language": "python",
     "metadata": {},
     "outputs": [
      {
       "latex": [
        "\\begin{equation}\\text{Quantum object: dims = [[2, 2], [2, 2]], shape = [4, 4], type = oper, isHerm = True}\\\\[1em]\\begin{pmatrix}0.0 & 0.0 & 0.0 & 0.0\\\\0.0 & 1.0 & 0.0 & 0.0\\\\0.0 & 0.0 & 0.0 & 0.0\\\\0.0 & 0.0 & 0.0 & 0.0\\\\\\end{pmatrix}\\end{equation}"
       ],
       "metadata": {},
       "output_type": "pyout",
       "prompt_number": 235,
       "text": [
        "Quantum object: dims = [[2, 2], [2, 2]], shape = [4, 4], type = oper, isherm = True\n",
        "Qobj data =\n",
        "[[ 0.  0.  0.  0.]\n",
        " [ 0.  1.  0.  0.]\n",
        " [ 0.  0.  0.  0.]\n",
        " [ 0.  0.  0.  0.]]"
       ]
      }
     ],
     "prompt_number": 235
    },
    {
     "cell_type": "code",
     "collapsed": false,
     "input": [
      "adiabatic_qc(h_b, h_p, 5.0)"
     ],
     "language": "python",
     "metadata": {},
     "outputs": [
      {
       "metadata": {},
       "output_type": "display_data",
       "png": "[encoded data removed]",
       "text": [
        "<matplotlib.figure.Figure at 0x2f69d50>"
       ]
      }
     ],
     "prompt_number": 229
    },
    {
     "cell_type": "code",
     "collapsed": false,
     "input": [],
     "language": "python",
     "metadata": {},
     "outputs": []
    }
   ],
   "metadata": {}
  }
 ]
}